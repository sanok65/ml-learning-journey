{
 "cells": [
  {
   "cell_type": "code",
   "execution_count": null,
   "id": "119dbff6",
   "metadata": {},
   "outputs": [
    {
     "name": "stdout",
     "output_type": "stream",
     "text": [
      "original: \n",
      "[[[0.39585007 0.51546194 0.11459684 0.51753462]\n",
      "  [0.46342159 0.58035724 0.84495747 0.246777  ]\n",
      "  [0.83836155 0.37545734 0.59709616 0.27988044]]\n",
      "\n",
      " [[0.0093798  0.77533396 0.74586425 0.33540928]\n",
      "  [0.78354245 0.54241253 0.01863756 0.28392854]\n",
      "  [0.01198807 0.75890479 0.3657486  0.70914361]]]\n",
      "flattened: \n",
      "[[0.39585007]\n",
      " [0.51546194]\n",
      " [0.11459684]\n",
      " [0.51753462]\n",
      " [0.46342159]\n",
      " [0.58035724]\n",
      " [0.84495747]\n",
      " [0.246777  ]\n",
      " [0.83836155]\n",
      " [0.37545734]\n",
      " [0.59709616]\n",
      " [0.27988044]\n",
      " [0.0093798 ]\n",
      " [0.77533396]\n",
      " [0.74586425]\n",
      " [0.33540928]\n",
      " [0.78354245]\n",
      " [0.54241253]\n",
      " [0.01863756]\n",
      " [0.28392854]\n",
      " [0.01198807]\n",
      " [0.75890479]\n",
      " [0.3657486 ]\n",
      " [0.70914361]]\n"
     ]
    }
   ],
   "source": [
    "import numpy as np\n",
    "\n",
    "def flatten(array):\n",
    "    vector = array.reshape(array.shape[0] * array.shape[1] * array.shape[2],1)\n",
    "    return vector\n",
    "\n",
    "sample = np.random.random([2, 3, 4])\n",
    "print(\"original: \")\n",
    "print(sample)\n",
    "print(\"flattened: \")\n",
    "print(flatten(sample))"
   ]
  },
  {
   "cell_type": "code",
   "execution_count": 2,
   "id": "f4b878eb",
   "metadata": {},
   "outputs": [
    {
     "name": "stdout",
     "output_type": "stream",
     "text": [
      "0.9999546021312976\n"
     ]
    }
   ],
   "source": [
    "import math\n",
    "\n",
    "def sigmoid_math_exp(x):\n",
    "    return 1 / (1 + math.exp(-x))\n",
    "print(sigmoid_math_exp(10))"
   ]
  },
  {
   "cell_type": "code",
   "execution_count": 3,
   "id": "52f75e46",
   "metadata": {},
   "outputs": [
    {
     "name": "stdout",
     "output_type": "stream",
     "text": [
      "Original Matrix:\n",
      "[[1. 2. 3.]\n",
      " [4. 5. 6.]\n",
      " [7. 8. 9.]]\n",
      "\n",
      "Softmax Result:\n",
      "[[0.09003057 0.24472847 0.66524096]\n",
      " [0.09003057 0.24472847 0.66524096]\n",
      " [0.09003057 0.24472847 0.66524096]]\n"
     ]
    }
   ],
   "source": [
    "import numpy as np\n",
    "\n",
    "def softmax(matrix):\n",
    "    exp_matrix = np.exp(matrix)\n",
    "\n",
    "    row_sums = np.sum(exp_matrix, axis=1, keepdims=True)\n",
    "\n",
    "    softmax_matrix = exp_matrix / row_sums\n",
    "\n",
    "    return softmax_matrix\n",
    "sample_matrix = np.array([[1.0, 2.0, 3.0],\n",
    "                          [4.0, 5.0, 6.0],\n",
    "                          [7.0, 8.0, 9.0]])\n",
    "\n",
    "softmax_result = softmax(sample_matrix)\n",
    "\n",
    "print(\"Original Matrix:\")\n",
    "print(sample_matrix)\n",
    "print(\"\\nSoftmax Result:\")\n",
    "print(softmax_result)"
   ]
  },
  {
   "cell_type": "code",
   "execution_count": 4,
   "id": "cb9ccb8f",
   "metadata": {},
   "outputs": [
    {
     "name": "stdout",
     "output_type": "stream",
     "text": [
      "[[ 6.]\n",
      " [15.]\n",
      " [24.]]\n"
     ]
    }
   ],
   "source": [
    "import numpy as np\n",
    "\n",
    "sample_matrix = np.array([[1.0, 2.0, 3.0],\n",
    "                          [4.0, 5.0, 6.0],\n",
    "                          [7.0, 8.0, 9.0]])\n",
    "\n",
    "row_sums = np.sum(sample_matrix, axis=1, keepdims=True)\n",
    "\n",
    "print(row_sums)"
   ]
  },
  {
   "cell_type": "code",
   "execution_count": null,
   "id": "f0bf85c2",
   "metadata": {},
   "outputs": [
    {
     "name": "stdout",
     "output_type": "stream",
     "text": [
      "Dot Product using Python Lists: 35\n",
      "Dot Product using Numpy: 35\n"
     ]
    }
   ],
   "source": [
    "\n",
    "import time\n",
    "import numpy as np\n",
    "\n",
    "def dot_product_python_lists(vector1, vector2):\n",
    "    if len(vector1) != len(vector2):\n",
    "        raise ValueError(\"Vectors must have the same length\")\n",
    "\n",
    "    dot_product = sum(x * y for x, y in zip(vector1, vector2))\n",
    "    return dot_product\n",
    "\n",
    "def dot_product_numpy(vector1, vector2):\n",
    "    dot_product = np.dot(vector1, vector2)\n",
    "    return dot_product\n",
    "example_vector1 = [1, 2, 3, 4, 5]\n",
    "example_vector2 = [5, 4, 3, 2, 1]\n",
    "\n",
    "start_time_python_lists = time.time()\n",
    "result_python_lists = dot_product_python_lists(example_vector1, example_vector2)\n",
    "end_time_python_lists = time.time()\n",
    "time_taken_python_lists = end_time_python_lists - start_time_python_lists\n",
    "\n",
    "start_time_numpy_dot = time.time()\n",
    "result_numpy_dot = dot_product_numpy(np.array(example_vector1), np.array(example_vector2))\n",
    "end_time_numpy_dot = time.time()\n",
    "time_taken_numpy_dot = end_time_numpy_dot - start_time_numpy_dot\n",
    "\n",
    "print(\"Dot Product using Python Lists:\", result_python_lists)\n",
    "print(\"Dot Product using Numpy:\", result_numpy_dot)\n"
   ]
  },
  {
   "cell_type": "code",
   "execution_count": null,
   "id": "e8f84ddf",
   "metadata": {},
   "outputs": [
    {
     "name": "stdout",
     "output_type": "stream",
     "text": [
      "Outer Product using Python Lists:\n",
      "[[5, 4, 3, 2, 1], [10, 8, 6, 4, 2], [15, 12, 9, 6, 3], [20, 16, 12, 8, 4], [25, 20, 15, 10, 5]]\n",
      "Time taken with Python Lists: 9.274482727050781e-05 seconds\n",
      "\n",
      "Outer Product using np.outer():\n",
      "[[ 5  4  3  2  1]\n",
      " [10  8  6  4  2]\n",
      " [15 12  9  6  3]\n",
      " [20 16 12  8  4]\n",
      " [25 20 15 10  5]]\n",
      "Time taken with np.outer(): 0.00026869773864746094 seconds\n"
     ]
    }
   ],
   "source": [
    "\n",
    "import time\n",
    "import numpy as np\n",
    "\n",
    "def outer_product_python_lists(vector1, vector2):\n",
    "    outer_product = [[x * y for y in vector2] for x in vector1]\n",
    "    return outer_product\n",
    "\n",
    "def outer_product_numpy(vector1, vector2):\n",
    "    outer_product = np.outer(vector1, vector2)\n",
    "    return outer_product\n",
    "example_vector1 = [1, 2, 3, 4, 5]\n",
    "example_vector2 = [5, 4, 3, 2, 1]\n",
    "\n",
    "start_time_python_lists = time.time()\n",
    "result_python_lists = outer_product_python_lists(example_vector1, example_vector2)\n",
    "end_time_python_lists = time.time()\n",
    "time_taken_python_lists = end_time_python_lists - start_time_python_lists\n",
    "\n",
    "start_time_numpy_outer = time.time()\n",
    "result_numpy_outer = outer_product_numpy(np.array(example_vector1), np.array(example_vector2))\n",
    "end_time_numpy_outer = time.time()\n",
    "time_taken_numpy_outer = end_time_numpy_outer - start_time_numpy_outer\n",
    "\n",
    "print(\"Outer Product using Python Lists:\")\n",
    "print(result_python_lists)\n",
    "print(\"Time taken with Python Lists:\", time_taken_python_lists, \"seconds\\n\")\n",
    "\n",
    "print(\"Outer Product using np.outer():\")\n",
    "print(result_numpy_outer)\n",
    "print(\"Time taken with np.outer():\", time_taken_numpy_outer, \"seconds\")"
   ]
  },
  {
   "cell_type": "code",
   "execution_count": null,
   "id": "d389e017",
   "metadata": {},
   "outputs": [
    {
     "name": "stdout",
     "output_type": "stream",
     "text": [
      "L1 Loss using Python Lists: 8\n",
      "L1 Loss using NumPy Arrays: 8\n",
      "\n",
      "L2 Loss using Python Lists: 4.898979485566356\n",
      "L2 Loss using NumPy Arrays: 4.898979485566356\n"
     ]
    }
   ],
   "source": [
    "\n",
    "import numpy as np\n",
    "\n",
    "def l1_loss_python_lists(vector1, vector2):\n",
    "    if len(vector1) != len(vector2):\n",
    "        raise ValueError(\"Vectors must have the same length\")\n",
    "\n",
    "    l1_loss = sum(abs(x - y) for x, y in zip(vector1, vector2))\n",
    "    return l1_loss\n",
    "\n",
    "def l1_loss_numpy(vector1, vector2):\n",
    "    if len(vector1) != len(vector2):\n",
    "        raise ValueError(\"Vectors must have the same length\")\n",
    "\n",
    "    l1_loss = np.sum(np.abs(np.array(vector1) - np.array(vector2)))\n",
    "    return l1_loss\n",
    "\n",
    "def l2_loss_python_lists(vector1, vector2):\n",
    "    if len(vector1) != len(vector2):\n",
    "        raise ValueError(\"Vectors must have the same length\")\n",
    "\n",
    "    l2_loss = sum((x - y)**2 for x, y in zip(vector1, vector2))\n",
    "    return l2_loss**0.5\n",
    "\n",
    "def l2_loss_numpy(vector1, vector2):\n",
    "    if len(vector1) != len(vector2):\n",
    "        raise ValueError(\"Vectors must have the same length\")\n",
    "\n",
    "    l2_loss = np.linalg.norm(np.array(vector1) - np.array(vector2))\n",
    "    return l2_loss\n",
    "vector1 = [1, 2, 3, 4, 5]\n",
    "vector2 = [5, 4, 3, 2, 5]\n",
    "\n",
    "l1_loss_result_python_lists = l1_loss_python_lists(vector1, vector2)\n",
    "print(\"L1 Loss using Python Lists:\", l1_loss_result_python_lists)\n",
    "\n",
    "l1_loss_result_numpy = l1_loss_numpy(np.array(vector1), np.array(vector2))\n",
    "print(\"L1 Loss using NumPy Arrays:\", l1_loss_result_numpy)\n",
    "\n",
    "l2_loss_result_python_lists = l2_loss_python_lists(vector1, vector2)\n",
    "print(\"\\nL2 Loss using Python Lists:\", l2_loss_result_python_lists)\n",
    "\n",
    "l2_loss_result_numpy = l2_loss_numpy(np.array(vector1), np.array(vector2))\n",
    "print(\"L2 Loss using NumPy Arrays:\", l2_loss_result_numpy)"
   ]
  },
  {
   "cell_type": "code",
   "execution_count": null,
   "id": "ee8da685",
   "metadata": {},
   "outputs": [],
   "source": [
    "\n",
    "def matrix_multiplication(vector1, vector2):\n",
    "    if len(vector1) != len(vector2) or len(vector1[0]) != len(vector2[0]):\n",
    "        raise ValueError(\"Matrices must have the same dimensions for addition\")\n",
    "    \n",
    "    for i, j in vector1, vector2:\n",
    "        placeholder = 1"
   ]
  },
  {
   "cell_type": "code",
   "execution_count": 201,
   "id": "4caf611c",
   "metadata": {},
   "outputs": [
    {
     "name": "stdout",
     "output_type": "stream",
     "text": [
      "L1 Loss: 12\n",
      "L2 Loss: 6.324555320336759\n"
     ]
    }
   ],
   "source": [
    "def l1_loss(y_true, y_pred):\n",
    "    return np.sum(np.abs(y_true - y_pred))\n",
    "\n",
    "def l2_loss(y_true, y_pred):\n",
    "    return np.linalg.norm(y_true - y_pred)\n",
    "\n",
    "y_true = np.array([1,2,3,4,5])\n",
    "y_pred = np.array([5,4,3,2,1])\n",
    "\n",
    "print(\"L1 Loss:\", l1_loss(y_true, y_pred))\n",
    "print(\"L2 Loss:\", l2_loss(y_true, y_pred))\n"
   ]
  }
 ],
 "metadata": {
  "kernelspec": {
   "display_name": "base",
   "language": "python",
   "name": "python3"
  },
  "language_info": {
   "codemirror_mode": {
    "name": "ipython",
    "version": 3
   },
   "file_extension": ".py",
   "mimetype": "text/x-python",
   "name": "python",
   "nbconvert_exporter": "python",
   "pygments_lexer": "ipython3",
   "version": "3.13.5"
  }
 },
 "nbformat": 4,
 "nbformat_minor": 5
}
